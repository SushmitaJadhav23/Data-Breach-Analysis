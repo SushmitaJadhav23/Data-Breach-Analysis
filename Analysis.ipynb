{
 "cells": [
  {
   "cell_type": "markdown",
   "metadata": {},
   "source": [
    "# Analyzing the Data Breaches"
   ]
  },
  {
   "cell_type": "markdown",
   "metadata": {},
   "source": [
    "## Objective: \n",
    "Analyze patterns in data breaches and investigate historic data breaches to help surface potential loopholes that would help restrategize data centre security systems."
   ]
  },
  {
   "cell_type": "markdown",
   "metadata": {},
   "source": [
    "## Assumptions:\n",
    "<p>\n",
    "\n",
    "<li> Assuming the sector of company to be domain specific (industry) and thus just keeping one sector for one company\n",
    "<li> The data breach incidents occured in the same time period as mentioned in the story"
   ]
  },
  {
   "cell_type": "markdown",
   "metadata": {},
   "source": [
    "## About the data\n",
    "<p>\n",
    "This is a data breach information over the years for various organizations that includes the intensity of loss, methods deployed as well as Sources that reported these breaches. This data aids to analyze and investigate historic data breaches to help surface potential loopholes that would help restrategize data centre security systems.\n",
    "    "
   ]
  },
  {
   "cell_type": "code",
   "execution_count": 1,
   "metadata": {},
   "outputs": [],
   "source": [
    "# Import Libraries\n",
    "import numpy as np\n",
    "import pandas as pd\n",
    "import matplotlib.pyplot as plt\n",
    "%matplotlib inline\n",
    "import seaborn as sns\n",
    "import statistics"
   ]
  },
  {
   "cell_type": "code",
   "execution_count": 2,
   "metadata": {},
   "outputs": [
    {
     "data": {
      "text/html": [
       "<div>\n",
       "<style scoped>\n",
       "    .dataframe tbody tr th:only-of-type {\n",
       "        vertical-align: middle;\n",
       "    }\n",
       "\n",
       "    .dataframe tbody tr th {\n",
       "        vertical-align: top;\n",
       "    }\n",
       "\n",
       "    .dataframe thead th {\n",
       "        text-align: right;\n",
       "    }\n",
       "</style>\n",
       "<table border=\"1\" class=\"dataframe\">\n",
       "  <thead>\n",
       "    <tr style=\"text-align: right;\">\n",
       "      <th></th>\n",
       "      <th>Entity</th>\n",
       "      <th>alternative name</th>\n",
       "      <th>records lost</th>\n",
       "      <th>YEAR</th>\n",
       "      <th>story</th>\n",
       "      <th>SECTOR</th>\n",
       "      <th>METHOD</th>\n",
       "      <th>interesting story</th>\n",
       "      <th>DATA SENSITIVITY</th>\n",
       "      <th>DISPLAYED RECORDS</th>\n",
       "      <th>Unnamed: 10</th>\n",
       "      <th>source name</th>\n",
       "      <th>1st source link</th>\n",
       "      <th>2nd source link</th>\n",
       "    </tr>\n",
       "  </thead>\n",
       "  <tbody>\n",
       "    <tr>\n",
       "      <th>0</th>\n",
       "      <td>NaN</td>\n",
       "      <td>NaN</td>\n",
       "      <td>NaN</td>\n",
       "      <td>year story broke</td>\n",
       "      <td>NaN</td>\n",
       "      <td>web\\nhealthcare\\napp\\nretail\\ngaming\\ntranspor...</td>\n",
       "      <td>poor security\\nhacked\\noops!\\nlost device \\nin...</td>\n",
       "      <td>NaN</td>\n",
       "      <td>1. Just email address/Online information \\n2 S...</td>\n",
       "      <td>=IF(C3&gt;100000000,C3,\")</td>\n",
       "      <td>NaN</td>\n",
       "      <td>NaN</td>\n",
       "      <td>NaN</td>\n",
       "      <td>NaN</td>\n",
       "    </tr>\n",
       "    <tr>\n",
       "      <th>1</th>\n",
       "      <td>US Customs and Border Protection</td>\n",
       "      <td>NaN</td>\n",
       "      <td>100,000</td>\n",
       "      <td>2019</td>\n",
       "      <td>June 2019. Photos of travellers' faces and lic...</td>\n",
       "      <td>government</td>\n",
       "      <td>hacked</td>\n",
       "      <td>y</td>\n",
       "      <td>2</td>\n",
       "      <td>NaN</td>\n",
       "      <td>NaN</td>\n",
       "      <td>Washington Post</td>\n",
       "      <td>https://www.washingtonpost.com/technology/2019...</td>\n",
       "      <td>NaN</td>\n",
       "    </tr>\n",
       "  </tbody>\n",
       "</table>\n",
       "</div>"
      ],
      "text/plain": [
       "                             Entity alternative name records lost  \\\n",
       "0                               NaN              NaN          NaN   \n",
       "1  US Customs and Border Protection              NaN      100,000   \n",
       "\n",
       "               YEAR                                              story  \\\n",
       "0  year story broke                                                NaN   \n",
       "1              2019  June 2019. Photos of travellers' faces and lic...   \n",
       "\n",
       "                                              SECTOR  \\\n",
       "0  web\\nhealthcare\\napp\\nretail\\ngaming\\ntranspor...   \n",
       "1                                         government   \n",
       "\n",
       "                                              METHOD interesting story  \\\n",
       "0  poor security\\nhacked\\noops!\\nlost device \\nin...               NaN   \n",
       "1                                             hacked                 y   \n",
       "\n",
       "                                    DATA SENSITIVITY       DISPLAYED RECORDS  \\\n",
       "0  1. Just email address/Online information \\n2 S...  =IF(C3>100000000,C3,\")   \n",
       "1                                                  2                     NaN   \n",
       "\n",
       "   Unnamed: 10      source name  \\\n",
       "0          NaN              NaN   \n",
       "1          NaN  Washington Post   \n",
       "\n",
       "                                     1st source link 2nd source link  \n",
       "0                                                NaN             NaN  \n",
       "1  https://www.washingtonpost.com/technology/2019...             NaN  "
      ]
     },
     "execution_count": 2,
     "metadata": {},
     "output_type": "execute_result"
    }
   ],
   "source": [
    "# Load the data\n",
    "df = pd.read_csv('Data Breaches - Raw Data.csv')\n",
    "df.head(2)"
   ]
  },
  {
   "cell_type": "markdown",
   "metadata": {},
   "source": [
    "## Part A: Data Description"
   ]
  },
  {
   "cell_type": "markdown",
   "metadata": {},
   "source": [
    "* **Entity** (String): name of the organization (public or private) that had the breach.\n",
    "* **Alternative Name** (String): other known names of the entity.\n",
    "* **Story** (String): tells a summary of what happened.\n",
    "* **Year** (Date): year of the breach.\n",
    "* **Records Lost** (Integer) : number of records that the breach compromised.\n",
    "* **Sector** (String): organization's main sector (or field of business). \n",
    "* **Data Sensitivity** (String): It tells about the sensitity level of the data lost. \n",
    "* **Method** (String): main cause of the breach. \n",
    "* **1st source (link)** (String): 1st. url with more info about the breach. \n",
    "* **2nd source (link)** (String): 2nd. url with more info about the breach. \n",
    "* **Source name** (String): name of the source of news, official reports, blog, etc. included. Note that some of them have changed after I replaced some previous broken links that the original dataset had."
   ]
  },
  {
   "cell_type": "markdown",
   "metadata": {},
   "source": [
    "## Part B: Data Cleansing and Validation"
   ]
  },
  {
   "cell_type": "code",
   "execution_count": 3,
   "metadata": {},
   "outputs": [],
   "source": [
    "# Removing the first row as it contains metadata\n",
    "df = df[1:]"
   ]
  },
  {
   "cell_type": "code",
   "execution_count": 4,
   "metadata": {},
   "outputs": [
    {
     "name": "stdout",
     "output_type": "stream",
     "text": [
      "<class 'pandas.core.frame.DataFrame'>\n",
      "RangeIndex: 339 entries, 1 to 339\n",
      "Data columns (total 14 columns):\n",
      " #   Column             Non-Null Count  Dtype  \n",
      "---  ------             --------------  -----  \n",
      " 0   Entity             339 non-null    object \n",
      " 1   alternative name   136 non-null    object \n",
      " 2   records lost       338 non-null    object \n",
      " 3   YEAR               339 non-null    object \n",
      " 4   story              339 non-null    object \n",
      " 5   SECTOR             339 non-null    object \n",
      " 6   METHOD             339 non-null    object \n",
      " 7   interesting story  69 non-null     object \n",
      " 8   DATA SENSITIVITY   339 non-null    object \n",
      " 9   DISPLAYED RECORDS  32 non-null     object \n",
      " 10  Unnamed: 10        0 non-null      float64\n",
      " 11  source name        339 non-null    object \n",
      " 12  1st source link    339 non-null    object \n",
      " 13  2nd source link    32 non-null     object \n",
      "dtypes: float64(1), object(13)\n",
      "memory usage: 37.2+ KB\n"
     ]
    }
   ],
   "source": [
    "# Concise summary of data\n",
    "df.info() "
   ]
  },
  {
   "cell_type": "code",
   "execution_count": 5,
   "metadata": {},
   "outputs": [
    {
     "data": {
      "text/plain": [
       "Entity                 0\n",
       "alternative name     203\n",
       "records lost           1\n",
       "YEAR                   0\n",
       "story                  0\n",
       "SECTOR                 0\n",
       "METHOD                 0\n",
       "interesting story    270\n",
       "DATA SENSITIVITY       0\n",
       "DISPLAYED RECORDS    307\n",
       "Unnamed: 10          339\n",
       "source name            0\n",
       "1st source link        0\n",
       "2nd source link      307\n",
       "dtype: int64"
      ]
     },
     "execution_count": 5,
     "metadata": {},
     "output_type": "execute_result"
    }
   ],
   "source": [
    "# Checking missing values in different columns\n",
    "df.isnull().sum()"
   ]
  },
  {
   "cell_type": "markdown",
   "metadata": {},
   "source": [
    "Dropping columns which I am not using for analysis as there aren't enough records for analysis"
   ]
  },
  {
   "cell_type": "code",
   "execution_count": 6,
   "metadata": {},
   "outputs": [
    {
     "data": {
      "text/html": [
       "<div>\n",
       "<style scoped>\n",
       "    .dataframe tbody tr th:only-of-type {\n",
       "        vertical-align: middle;\n",
       "    }\n",
       "\n",
       "    .dataframe tbody tr th {\n",
       "        vertical-align: top;\n",
       "    }\n",
       "\n",
       "    .dataframe thead th {\n",
       "        text-align: right;\n",
       "    }\n",
       "</style>\n",
       "<table border=\"1\" class=\"dataframe\">\n",
       "  <thead>\n",
       "    <tr style=\"text-align: right;\">\n",
       "      <th></th>\n",
       "      <th>Entity</th>\n",
       "      <th>records lost</th>\n",
       "      <th>YEAR</th>\n",
       "      <th>story</th>\n",
       "      <th>SECTOR</th>\n",
       "      <th>METHOD</th>\n",
       "      <th>DATA SENSITIVITY</th>\n",
       "      <th>source name</th>\n",
       "    </tr>\n",
       "  </thead>\n",
       "  <tbody>\n",
       "    <tr>\n",
       "      <th>1</th>\n",
       "      <td>US Customs and Border Protection</td>\n",
       "      <td>100,000</td>\n",
       "      <td>2019</td>\n",
       "      <td>June 2019. Photos of travellers' faces and lic...</td>\n",
       "      <td>government</td>\n",
       "      <td>hacked</td>\n",
       "      <td>2</td>\n",
       "      <td>Washington Post</td>\n",
       "    </tr>\n",
       "    <tr>\n",
       "      <th>2</th>\n",
       "      <td>Click2Gov</td>\n",
       "      <td>300,000</td>\n",
       "      <td>2018</td>\n",
       "      <td>Dec 2018. Vulnerabilities in Click2Gov, a type...</td>\n",
       "      <td>financial</td>\n",
       "      <td>hacked</td>\n",
       "      <td>3</td>\n",
       "      <td>Fortune</td>\n",
       "    </tr>\n",
       "    <tr>\n",
       "      <th>3</th>\n",
       "      <td>SingHealth</td>\n",
       "      <td>1,500,000</td>\n",
       "      <td>2018</td>\n",
       "      <td>July 2018. Hackers stole personal details of 1...</td>\n",
       "      <td>healthcare</td>\n",
       "      <td>hacked</td>\n",
       "      <td>4</td>\n",
       "      <td>Straits Times</td>\n",
       "    </tr>\n",
       "    <tr>\n",
       "      <th>4</th>\n",
       "      <td>Quest Diagnostics</td>\n",
       "      <td>11,900,000</td>\n",
       "      <td>2019</td>\n",
       "      <td>June 2019. One of the biggest blood testing pr...</td>\n",
       "      <td>healthcare</td>\n",
       "      <td>poor security</td>\n",
       "      <td>4</td>\n",
       "      <td>NBC News</td>\n",
       "    </tr>\n",
       "    <tr>\n",
       "      <th>5</th>\n",
       "      <td>Australian National University</td>\n",
       "      <td>200,000</td>\n",
       "      <td>2019</td>\n",
       "      <td>June 2019. A hacker accessed personal informat...</td>\n",
       "      <td>academic</td>\n",
       "      <td>hacked</td>\n",
       "      <td>4</td>\n",
       "      <td>Guardian</td>\n",
       "    </tr>\n",
       "  </tbody>\n",
       "</table>\n",
       "</div>"
      ],
      "text/plain": [
       "                             Entity records lost  YEAR  \\\n",
       "1  US Customs and Border Protection      100,000  2019   \n",
       "2                         Click2Gov      300,000  2018   \n",
       "3                        SingHealth    1,500,000  2018   \n",
       "4                 Quest Diagnostics   11,900,000  2019   \n",
       "5    Australian National University      200,000  2019   \n",
       "\n",
       "                                               story      SECTOR  \\\n",
       "1  June 2019. Photos of travellers' faces and lic...  government   \n",
       "2  Dec 2018. Vulnerabilities in Click2Gov, a type...   financial   \n",
       "3  July 2018. Hackers stole personal details of 1...  healthcare   \n",
       "4  June 2019. One of the biggest blood testing pr...  healthcare   \n",
       "5  June 2019. A hacker accessed personal informat...    academic   \n",
       "\n",
       "          METHOD DATA SENSITIVITY      source name  \n",
       "1         hacked                2  Washington Post  \n",
       "2         hacked                3          Fortune  \n",
       "3         hacked                4    Straits Times  \n",
       "4  poor security                4         NBC News  \n",
       "5         hacked                4         Guardian  "
      ]
     },
     "execution_count": 6,
     "metadata": {},
     "output_type": "execute_result"
    }
   ],
   "source": [
    "# Removing columns like - 'alternative name','unnamed', '1st source link', '2nd source link'\n",
    "df = df.drop(['alternative name','Unnamed: 10', '1st source link', '2nd source link','interesting story', 'DISPLAYED RECORDS'], axis = 1)\n",
    "\n",
    "# Let's look at our data now\n",
    "df.head()"
   ]
  },
  {
   "cell_type": "code",
   "execution_count": 7,
   "metadata": {},
   "outputs": [],
   "source": [
    "# Replacing Categories with their respective names\n",
    "df.replace({'DATA SENSITIVITY':{'1':'Just email address/Online information',\n",
    "                               '2':'SSN/Personal details',\n",
    "                               '3':'Credit card information',\n",
    "                               '4':'Health & other personal records',\n",
    "                               '5':'Full details'\n",
    "                               }}, inplace = True)"
   ]
  },
  {
   "cell_type": "code",
   "execution_count": 8,
   "metadata": {},
   "outputs": [
    {
     "data": {
      "text/html": [
       "<div>\n",
       "<style scoped>\n",
       "    .dataframe tbody tr th:only-of-type {\n",
       "        vertical-align: middle;\n",
       "    }\n",
       "\n",
       "    .dataframe tbody tr th {\n",
       "        vertical-align: top;\n",
       "    }\n",
       "\n",
       "    .dataframe thead th {\n",
       "        text-align: right;\n",
       "    }\n",
       "</style>\n",
       "<table border=\"1\" class=\"dataframe\">\n",
       "  <thead>\n",
       "    <tr style=\"text-align: right;\">\n",
       "      <th></th>\n",
       "      <th>entity</th>\n",
       "      <th>records_lost</th>\n",
       "      <th>year</th>\n",
       "      <th>story</th>\n",
       "      <th>sector</th>\n",
       "      <th>method</th>\n",
       "      <th>data_sensitivity</th>\n",
       "      <th>source_name</th>\n",
       "    </tr>\n",
       "  </thead>\n",
       "  <tbody>\n",
       "    <tr>\n",
       "      <th>1</th>\n",
       "      <td>US Customs and Border Protection</td>\n",
       "      <td>100,000</td>\n",
       "      <td>2019</td>\n",
       "      <td>June 2019. Photos of travellers' faces and lic...</td>\n",
       "      <td>government</td>\n",
       "      <td>hacked</td>\n",
       "      <td>SSN/Personal details</td>\n",
       "      <td>Washington Post</td>\n",
       "    </tr>\n",
       "  </tbody>\n",
       "</table>\n",
       "</div>"
      ],
      "text/plain": [
       "                             entity records_lost  year  \\\n",
       "1  US Customs and Border Protection      100,000  2019   \n",
       "\n",
       "                                               story      sector  method  \\\n",
       "1  June 2019. Photos of travellers' faces and lic...  government  hacked   \n",
       "\n",
       "       data_sensitivity      source_name  \n",
       "1  SSN/Personal details  Washington Post  "
      ]
     },
     "execution_count": 8,
     "metadata": {},
     "output_type": "execute_result"
    }
   ],
   "source": [
    "# replacing spaces with underscores and lowercase labels for dataset\n",
    "df.rename(columns=lambda x: x.strip().lower().replace(\" \", \"_\"), inplace=True)\n",
    "\n",
    "# confirm changes\n",
    "df.head(1)"
   ]
  },
  {
   "cell_type": "code",
   "execution_count": 9,
   "metadata": {},
   "outputs": [
    {
     "name": "stdout",
     "output_type": "stream",
     "text": [
      "<class 'pandas.core.frame.DataFrame'>\n",
      "RangeIndex: 339 entries, 1 to 339\n",
      "Data columns (total 8 columns):\n",
      " #   Column            Non-Null Count  Dtype \n",
      "---  ------            --------------  ----- \n",
      " 0   entity            339 non-null    object\n",
      " 1   records_lost      338 non-null    object\n",
      " 2   year              339 non-null    object\n",
      " 3   story             339 non-null    object\n",
      " 4   sector            339 non-null    object\n",
      " 5   method            339 non-null    object\n",
      " 6   data_sensitivity  339 non-null    object\n",
      " 7   source_name       339 non-null    object\n",
      "dtypes: object(8)\n",
      "memory usage: 21.3+ KB\n"
     ]
    }
   ],
   "source": [
    "# Concise summary of data\n",
    "df.info()"
   ]
  },
  {
   "cell_type": "code",
   "execution_count": 10,
   "metadata": {},
   "outputs": [
    {
     "data": {
      "text/html": [
       "<div>\n",
       "<style scoped>\n",
       "    .dataframe tbody tr th:only-of-type {\n",
       "        vertical-align: middle;\n",
       "    }\n",
       "\n",
       "    .dataframe tbody tr th {\n",
       "        vertical-align: top;\n",
       "    }\n",
       "\n",
       "    .dataframe thead th {\n",
       "        text-align: right;\n",
       "    }\n",
       "</style>\n",
       "<table border=\"1\" class=\"dataframe\">\n",
       "  <thead>\n",
       "    <tr style=\"text-align: right;\">\n",
       "      <th></th>\n",
       "      <th>entity</th>\n",
       "      <th>records_lost</th>\n",
       "      <th>year</th>\n",
       "      <th>story</th>\n",
       "      <th>sector</th>\n",
       "      <th>method</th>\n",
       "      <th>data_sensitivity</th>\n",
       "      <th>source_name</th>\n",
       "    </tr>\n",
       "  </thead>\n",
       "  <tbody>\n",
       "    <tr>\n",
       "      <th>1</th>\n",
       "      <td>US Customs and Border Protection</td>\n",
       "      <td>100000</td>\n",
       "      <td>2019</td>\n",
       "      <td>June 2019. Photos of travellers' faces and lic...</td>\n",
       "      <td>government</td>\n",
       "      <td>hacked</td>\n",
       "      <td>SSN/Personal details</td>\n",
       "      <td>Washington Post</td>\n",
       "    </tr>\n",
       "  </tbody>\n",
       "</table>\n",
       "</div>"
      ],
      "text/plain": [
       "                             entity records_lost  year  \\\n",
       "1  US Customs and Border Protection       100000  2019   \n",
       "\n",
       "                                               story      sector  method  \\\n",
       "1  June 2019. Photos of travellers' faces and lic...  government  hacked   \n",
       "\n",
       "       data_sensitivity      source_name  \n",
       "1  SSN/Personal details  Washington Post  "
      ]
     },
     "execution_count": 10,
     "metadata": {},
     "output_type": "execute_result"
    }
   ],
   "source": [
    "# removing ',' from column records_lost\n",
    "df['records_lost']=df['records_lost'].str.replace(',','')\n",
    "df.head(1)"
   ]
  },
  {
   "cell_type": "code",
   "execution_count": 11,
   "metadata": {},
   "outputs": [
    {
     "data": {
      "text/html": [
       "<div>\n",
       "<style scoped>\n",
       "    .dataframe tbody tr th:only-of-type {\n",
       "        vertical-align: middle;\n",
       "    }\n",
       "\n",
       "    .dataframe tbody tr th {\n",
       "        vertical-align: top;\n",
       "    }\n",
       "\n",
       "    .dataframe thead th {\n",
       "        text-align: right;\n",
       "    }\n",
       "</style>\n",
       "<table border=\"1\" class=\"dataframe\">\n",
       "  <thead>\n",
       "    <tr style=\"text-align: right;\">\n",
       "      <th></th>\n",
       "      <th>entity</th>\n",
       "      <th>records_lost</th>\n",
       "      <th>year</th>\n",
       "      <th>story</th>\n",
       "      <th>sector</th>\n",
       "      <th>method</th>\n",
       "      <th>data_sensitivity</th>\n",
       "      <th>source_name</th>\n",
       "    </tr>\n",
       "  </thead>\n",
       "  <tbody>\n",
       "    <tr>\n",
       "      <th>16</th>\n",
       "      <td>Animoto</td>\n",
       "      <td>ALL</td>\n",
       "      <td>2019</td>\n",
       "      <td>Feb 2019. Anomoto was part of the theft of 617...</td>\n",
       "      <td>app</td>\n",
       "      <td>hacked</td>\n",
       "      <td>7</td>\n",
       "      <td>The Register</td>\n",
       "    </tr>\n",
       "    <tr>\n",
       "      <th>23</th>\n",
       "      <td>CoffeeMeetsBagel</td>\n",
       "      <td>ALL</td>\n",
       "      <td>2019</td>\n",
       "      <td>Feb 2019. CoffeeMeetsBagel was part of the the...</td>\n",
       "      <td>web</td>\n",
       "      <td>hacked</td>\n",
       "      <td>Just email address/Online information</td>\n",
       "      <td>The Register</td>\n",
       "    </tr>\n",
       "    <tr>\n",
       "      <th>33</th>\n",
       "      <td>Petflow</td>\n",
       "      <td>ALL</td>\n",
       "      <td>2019</td>\n",
       "      <td>Feb 2019. Petflow was part of the theft of 127...</td>\n",
       "      <td>retail</td>\n",
       "      <td>poor security</td>\n",
       "      <td>Just email address/Online information</td>\n",
       "      <td>Techcrunch</td>\n",
       "    </tr>\n",
       "  </tbody>\n",
       "</table>\n",
       "</div>"
      ],
      "text/plain": [
       "              entity records_lost  year  \\\n",
       "16           Animoto          ALL  2019   \n",
       "23  CoffeeMeetsBagel          ALL  2019   \n",
       "33           Petflow          ALL  2019   \n",
       "\n",
       "                                                story  sector         method  \\\n",
       "16  Feb 2019. Anomoto was part of the theft of 617...     app         hacked   \n",
       "23  Feb 2019. CoffeeMeetsBagel was part of the the...     web         hacked   \n",
       "33  Feb 2019. Petflow was part of the theft of 127...  retail  poor security   \n",
       "\n",
       "                         data_sensitivity   source_name  \n",
       "16                                      7  The Register  \n",
       "23  Just email address/Online information  The Register  \n",
       "33  Just email address/Online information    Techcrunch  "
      ]
     },
     "execution_count": 11,
     "metadata": {},
     "output_type": "execute_result"
    }
   ],
   "source": [
    "# let's look at column records_lost where the value = 'ALL'\n",
    "df.query('records_lost == \"ALL\"')"
   ]
  },
  {
   "cell_type": "markdown",
   "metadata": {},
   "source": [
    "As we can see that there are three records where all records were compromised. Let's try to look at there story if we can get the number of records lost"
   ]
  },
  {
   "cell_type": "code",
   "execution_count": 12,
   "metadata": {},
   "outputs": [
    {
     "data": {
      "text/plain": [
       "'Feb 2019. Anomoto was part of the theft of 617 million online account details from 16 hacked websites, put up for sale on the dark web.'"
      ]
     },
     "execution_count": 12,
     "metadata": {},
     "output_type": "execute_result"
    }
   ],
   "source": [
    "df.story.iloc[15]"
   ]
  },
  {
   "cell_type": "code",
   "execution_count": 13,
   "metadata": {},
   "outputs": [
    {
     "data": {
      "text/plain": [
       "'Feb 2019. CoffeeMeetsBagel was part of the theft of 617 million online account details from 16 hacked websites, put up for sale on the dark web.'"
      ]
     },
     "execution_count": 13,
     "metadata": {},
     "output_type": "execute_result"
    }
   ],
   "source": [
    "df.story.iloc[22]"
   ]
  },
  {
   "cell_type": "code",
   "execution_count": 14,
   "metadata": {},
   "outputs": [
    {
     "data": {
      "text/plain": [
       "'Feb 2019. Petflow was part of the theft of 127 million records from eight websites, by the same hacker who previously stole 617 million online account details from 16 other sites. All were put up for sale on the dark web.'"
      ]
     },
     "execution_count": 14,
     "metadata": {},
     "output_type": "execute_result"
    }
   ],
   "source": [
    "df.story.iloc[32]"
   ]
  },
  {
   "cell_type": "code",
   "execution_count": 15,
   "metadata": {},
   "outputs": [],
   "source": [
    "# Replacing value 'ALL' with their respective values from the story column\n",
    "df.iloc[15,1] = 617000000\n",
    "df.iloc[22,1] = 617000000\n",
    "df.iloc[32,1] = 127000000"
   ]
  },
  {
   "cell_type": "code",
   "execution_count": 16,
   "metadata": {},
   "outputs": [],
   "source": [
    "# Replacing M (million with 6 0s)\n",
    "df['records_lost'].replace({'<': '', 'M': '000000'}, regex=True, inplace = True)"
   ]
  },
  {
   "cell_type": "code",
   "execution_count": 17,
   "metadata": {},
   "outputs": [
    {
     "data": {
      "text/html": [
       "<div>\n",
       "<style scoped>\n",
       "    .dataframe tbody tr th:only-of-type {\n",
       "        vertical-align: middle;\n",
       "    }\n",
       "\n",
       "    .dataframe tbody tr th {\n",
       "        vertical-align: top;\n",
       "    }\n",
       "\n",
       "    .dataframe thead th {\n",
       "        text-align: right;\n",
       "    }\n",
       "</style>\n",
       "<table border=\"1\" class=\"dataframe\">\n",
       "  <thead>\n",
       "    <tr style=\"text-align: right;\">\n",
       "      <th></th>\n",
       "      <th>entity</th>\n",
       "      <th>records_lost</th>\n",
       "      <th>year</th>\n",
       "      <th>story</th>\n",
       "      <th>sector</th>\n",
       "      <th>method</th>\n",
       "      <th>data_sensitivity</th>\n",
       "      <th>source_name</th>\n",
       "    </tr>\n",
       "  </thead>\n",
       "  <tbody>\n",
       "    <tr>\n",
       "      <th>194</th>\n",
       "      <td>OVH</td>\n",
       "      <td>NaN</td>\n",
       "      <td>2013</td>\n",
       "      <td>Jul 2013. A hacker was able to obtain access t...</td>\n",
       "      <td>web</td>\n",
       "      <td>hacked</td>\n",
       "      <td>SSN/Personal details</td>\n",
       "      <td>OVH</td>\n",
       "    </tr>\n",
       "  </tbody>\n",
       "</table>\n",
       "</div>"
      ],
      "text/plain": [
       "    entity records_lost  year  \\\n",
       "194    OVH          NaN  2013   \n",
       "\n",
       "                                                 story sector  method  \\\n",
       "194  Jul 2013. A hacker was able to obtain access t...    web  hacked   \n",
       "\n",
       "         data_sensitivity source_name  \n",
       "194  SSN/Personal details         OVH  "
      ]
     },
     "execution_count": 17,
     "metadata": {},
     "output_type": "execute_result"
    }
   ],
   "source": [
    "# The record seem to be missing by random \n",
    "# Case: One record Missing completely at Random\n",
    "# Approach: Replace with year mean as no information could be found\n",
    "df[df['records_lost'].isna() == True]"
   ]
  },
  {
   "cell_type": "markdown",
   "metadata": {},
   "source": [
    "<b>Handling Missing Value:</b> Dropped one records which contains null value in records_lost\n",
    "\n",
    "<b>Justification:</b> As the scope of this anlaysis revolves around finding trends in organizations with a measurable loss thus I dropped it\n"
   ]
  },
  {
   "cell_type": "code",
   "execution_count": 18,
   "metadata": {},
   "outputs": [
    {
     "data": {
      "text/plain": [
       "0"
      ]
     },
     "execution_count": 18,
     "metadata": {},
     "output_type": "execute_result"
    }
   ],
   "source": [
    "# Dropping record\n",
    "df['records_lost'].replace({'NaN',''}, inplace = True)\n",
    "\n",
    "df = df[df['records_lost'].isnull() == False] \n",
    "df.records_lost.isna().sum()"
   ]
  },
  {
   "cell_type": "code",
   "execution_count": 19,
   "metadata": {},
   "outputs": [],
   "source": [
    "# Extract month from story assuming the data breach incidents occured in the same time period as mentioned in the story\n",
    "df['month'] = df['story'].str[:3]"
   ]
  },
  {
   "cell_type": "code",
   "execution_count": 20,
   "metadata": {},
   "outputs": [],
   "source": [
    "m = {'Jan':1, 'Feb':2, 'Mar':3, 'Apr':4, 'May':5, 'Jun':6, 'Jul':7, 'Aug':8, 'Sep':9, 'Oct':10, 'Nov':11, 'Dec':12}\n",
    "df.month = df.month.map(m)"
   ]
  },
  {
   "cell_type": "code",
   "execution_count": 21,
   "metadata": {},
   "outputs": [
    {
     "data": {
      "text/html": [
       "<div>\n",
       "<style scoped>\n",
       "    .dataframe tbody tr th:only-of-type {\n",
       "        vertical-align: middle;\n",
       "    }\n",
       "\n",
       "    .dataframe tbody tr th {\n",
       "        vertical-align: top;\n",
       "    }\n",
       "\n",
       "    .dataframe thead th {\n",
       "        text-align: right;\n",
       "    }\n",
       "</style>\n",
       "<table border=\"1\" class=\"dataframe\">\n",
       "  <thead>\n",
       "    <tr style=\"text-align: right;\">\n",
       "      <th></th>\n",
       "      <th>entity</th>\n",
       "      <th>records_lost</th>\n",
       "      <th>year</th>\n",
       "      <th>story</th>\n",
       "      <th>sector</th>\n",
       "      <th>method</th>\n",
       "      <th>data_sensitivity</th>\n",
       "      <th>source_name</th>\n",
       "      <th>month</th>\n",
       "    </tr>\n",
       "  </thead>\n",
       "  <tbody>\n",
       "    <tr>\n",
       "      <th>1</th>\n",
       "      <td>US Customs and Border Protection</td>\n",
       "      <td>100000</td>\n",
       "      <td>2019</td>\n",
       "      <td>June 2019. Photos of travellers' faces and lic...</td>\n",
       "      <td>government</td>\n",
       "      <td>hacked</td>\n",
       "      <td>SSN/Personal details</td>\n",
       "      <td>Washington Post</td>\n",
       "      <td>6</td>\n",
       "    </tr>\n",
       "    <tr>\n",
       "      <th>2</th>\n",
       "      <td>Click2Gov</td>\n",
       "      <td>300000</td>\n",
       "      <td>2018</td>\n",
       "      <td>Dec 2018. Vulnerabilities in Click2Gov, a type...</td>\n",
       "      <td>financial</td>\n",
       "      <td>hacked</td>\n",
       "      <td>Credit card information</td>\n",
       "      <td>Fortune</td>\n",
       "      <td>12</td>\n",
       "    </tr>\n",
       "    <tr>\n",
       "      <th>3</th>\n",
       "      <td>SingHealth</td>\n",
       "      <td>1500000</td>\n",
       "      <td>2018</td>\n",
       "      <td>July 2018. Hackers stole personal details of 1...</td>\n",
       "      <td>healthcare</td>\n",
       "      <td>hacked</td>\n",
       "      <td>Health &amp; other personal records</td>\n",
       "      <td>Straits Times</td>\n",
       "      <td>7</td>\n",
       "    </tr>\n",
       "    <tr>\n",
       "      <th>4</th>\n",
       "      <td>Quest Diagnostics</td>\n",
       "      <td>11900000</td>\n",
       "      <td>2019</td>\n",
       "      <td>June 2019. One of the biggest blood testing pr...</td>\n",
       "      <td>healthcare</td>\n",
       "      <td>poor security</td>\n",
       "      <td>Health &amp; other personal records</td>\n",
       "      <td>NBC News</td>\n",
       "      <td>6</td>\n",
       "    </tr>\n",
       "    <tr>\n",
       "      <th>5</th>\n",
       "      <td>Australian National University</td>\n",
       "      <td>200000</td>\n",
       "      <td>2019</td>\n",
       "      <td>June 2019. A hacker accessed personal informat...</td>\n",
       "      <td>academic</td>\n",
       "      <td>hacked</td>\n",
       "      <td>Health &amp; other personal records</td>\n",
       "      <td>Guardian</td>\n",
       "      <td>6</td>\n",
       "    </tr>\n",
       "  </tbody>\n",
       "</table>\n",
       "</div>"
      ],
      "text/plain": [
       "                             entity records_lost  year  \\\n",
       "1  US Customs and Border Protection       100000  2019   \n",
       "2                         Click2Gov       300000  2018   \n",
       "3                        SingHealth      1500000  2018   \n",
       "4                 Quest Diagnostics     11900000  2019   \n",
       "5    Australian National University       200000  2019   \n",
       "\n",
       "                                               story      sector  \\\n",
       "1  June 2019. Photos of travellers' faces and lic...  government   \n",
       "2  Dec 2018. Vulnerabilities in Click2Gov, a type...   financial   \n",
       "3  July 2018. Hackers stole personal details of 1...  healthcare   \n",
       "4  June 2019. One of the biggest blood testing pr...  healthcare   \n",
       "5  June 2019. A hacker accessed personal informat...    academic   \n",
       "\n",
       "          method                 data_sensitivity      source_name  month  \n",
       "1         hacked             SSN/Personal details  Washington Post      6  \n",
       "2         hacked          Credit card information          Fortune     12  \n",
       "3         hacked  Health & other personal records    Straits Times      7  \n",
       "4  poor security  Health & other personal records         NBC News      6  \n",
       "5         hacked  Health & other personal records         Guardian      6  "
      ]
     },
     "execution_count": 21,
     "metadata": {},
     "output_type": "execute_result"
    }
   ],
   "source": [
    "df.head()"
   ]
  },
  {
   "cell_type": "markdown",
   "metadata": {},
   "source": [
    "### Type Casting"
   ]
  },
  {
   "cell_type": "code",
   "execution_count": 22,
   "metadata": {},
   "outputs": [
    {
     "data": {
      "text/plain": [
       "entity              object\n",
       "records_lost         int32\n",
       "year                object\n",
       "story               object\n",
       "sector              object\n",
       "method              object\n",
       "data_sensitivity    object\n",
       "source_name         object\n",
       "month                int64\n",
       "dtype: object"
      ]
     },
     "execution_count": 22,
     "metadata": {},
     "output_type": "execute_result"
    }
   ],
   "source": [
    "df['records_lost'] = df['records_lost'].astype(int)\n",
    "\n",
    "df.dtypes"
   ]
  },
  {
   "cell_type": "code",
   "execution_count": 23,
   "metadata": {},
   "outputs": [],
   "source": [
    "# create a list of special characters\n",
    "spec_char = ['√','Äô','\"','•']\n",
    "\n",
    "# and removing them using loop\n",
    "for char in spec_char:\n",
    "    df['entity'] = df['entity'].str.replace(char, '')"
   ]
  },
  {
   "cell_type": "code",
   "execution_count": 24,
   "metadata": {},
   "outputs": [
    {
     "data": {
      "text/html": [
       "<div>\n",
       "<style scoped>\n",
       "    .dataframe tbody tr th:only-of-type {\n",
       "        vertical-align: middle;\n",
       "    }\n",
       "\n",
       "    .dataframe tbody tr th {\n",
       "        vertical-align: top;\n",
       "    }\n",
       "\n",
       "    .dataframe thead th {\n",
       "        text-align: right;\n",
       "    }\n",
       "</style>\n",
       "<table border=\"1\" class=\"dataframe\">\n",
       "  <thead>\n",
       "    <tr style=\"text-align: right;\">\n",
       "      <th></th>\n",
       "      <th>entity</th>\n",
       "      <th>records_lost</th>\n",
       "      <th>year</th>\n",
       "      <th>story</th>\n",
       "      <th>sector</th>\n",
       "      <th>method</th>\n",
       "      <th>data_sensitivity</th>\n",
       "      <th>source_name</th>\n",
       "      <th>month</th>\n",
       "    </tr>\n",
       "  </thead>\n",
       "  <tbody>\n",
       "    <tr>\n",
       "      <th>12</th>\n",
       "      <td>Vrdguiden</td>\n",
       "      <td>2700000</td>\n",
       "      <td>2019</td>\n",
       "      <td>Feb 2019. 170,000 hours of sensitive calls wer...</td>\n",
       "      <td>healthcare</td>\n",
       "      <td>poor security</td>\n",
       "      <td>Full details</td>\n",
       "      <td>ComputerSweden</td>\n",
       "      <td>2</td>\n",
       "    </tr>\n",
       "  </tbody>\n",
       "</table>\n",
       "</div>"
      ],
      "text/plain": [
       "       entity  records_lost  year  \\\n",
       "12  Vrdguiden       2700000  2019   \n",
       "\n",
       "                                                story      sector  \\\n",
       "12  Feb 2019. 170,000 hours of sensitive calls wer...  healthcare   \n",
       "\n",
       "           method data_sensitivity     source_name  month  \n",
       "12  poor security     Full details  ComputerSweden      2  "
      ]
     },
     "execution_count": 24,
     "metadata": {},
     "output_type": "execute_result"
    }
   ],
   "source": [
    "df.query('entity == \"Vrdguiden\"')"
   ]
  },
  {
   "cell_type": "code",
   "execution_count": 25,
   "metadata": {},
   "outputs": [],
   "source": [
    "# Validating some characters using Google search\n",
    "df['entity'].replace('Vrdguiden','Vardguiden', inplace = True)"
   ]
  },
  {
   "cell_type": "code",
   "execution_count": 26,
   "metadata": {},
   "outputs": [
    {
     "data": {
      "text/plain": [
       "entity                                                     Vardguiden\n",
       "records_lost                                                  2700000\n",
       "year                                                             2019\n",
       "story               Feb 2019. 170,000 hours of sensitive calls wer...\n",
       "sector                                                     healthcare\n",
       "method                                                  poor security\n",
       "data_sensitivity                                         Full details\n",
       "source_name                                            ComputerSweden\n",
       "month                                                               2\n",
       "Name: 12, dtype: object"
      ]
     },
     "execution_count": 26,
     "metadata": {},
     "output_type": "execute_result"
    }
   ],
   "source": [
    "df.iloc[11]"
   ]
  },
  {
   "cell_type": "code",
   "execution_count": 27,
   "metadata": {},
   "outputs": [],
   "source": [
    "# Cleaning sector field\n",
    "df[['sector','temp_sec']] = df.sector.str.split(\", \", expand = True)"
   ]
  },
  {
   "cell_type": "code",
   "execution_count": 57,
   "metadata": {},
   "outputs": [],
   "source": [
    "df.drop('temp_sec', axis=1, inplace=True)"
   ]
  },
  {
   "cell_type": "code",
   "execution_count": 28,
   "metadata": {},
   "outputs": [],
   "source": [
    "df = df[df['year'] != '1999']"
   ]
  },
  {
   "cell_type": "code",
   "execution_count": 29,
   "metadata": {},
   "outputs": [
    {
     "data": {
      "text/html": [
       "<div>\n",
       "<style scoped>\n",
       "    .dataframe tbody tr th:only-of-type {\n",
       "        vertical-align: middle;\n",
       "    }\n",
       "\n",
       "    .dataframe tbody tr th {\n",
       "        vertical-align: top;\n",
       "    }\n",
       "\n",
       "    .dataframe thead th {\n",
       "        text-align: right;\n",
       "    }\n",
       "</style>\n",
       "<table border=\"1\" class=\"dataframe\">\n",
       "  <thead>\n",
       "    <tr style=\"text-align: right;\">\n",
       "      <th></th>\n",
       "      <th>entity</th>\n",
       "      <th>records_lost</th>\n",
       "      <th>year</th>\n",
       "      <th>story</th>\n",
       "      <th>sector</th>\n",
       "      <th>method</th>\n",
       "      <th>data_sensitivity</th>\n",
       "      <th>source_name</th>\n",
       "      <th>month</th>\n",
       "      <th>temp_sec</th>\n",
       "    </tr>\n",
       "  </thead>\n",
       "  <tbody>\n",
       "    <tr>\n",
       "      <th>1</th>\n",
       "      <td>US Customs and Border Protection</td>\n",
       "      <td>100000</td>\n",
       "      <td>2019</td>\n",
       "      <td>June 2019. Photos of travellers' faces and lic...</td>\n",
       "      <td>government</td>\n",
       "      <td>hacked</td>\n",
       "      <td>SSN/Personal details</td>\n",
       "      <td>Washington Post</td>\n",
       "      <td>6</td>\n",
       "      <td>None</td>\n",
       "    </tr>\n",
       "    <tr>\n",
       "      <th>2</th>\n",
       "      <td>Click2Gov</td>\n",
       "      <td>300000</td>\n",
       "      <td>2018</td>\n",
       "      <td>Dec 2018. Vulnerabilities in Click2Gov, a type...</td>\n",
       "      <td>financial</td>\n",
       "      <td>hacked</td>\n",
       "      <td>Credit card information</td>\n",
       "      <td>Fortune</td>\n",
       "      <td>12</td>\n",
       "      <td>None</td>\n",
       "    </tr>\n",
       "    <tr>\n",
       "      <th>3</th>\n",
       "      <td>SingHealth</td>\n",
       "      <td>1500000</td>\n",
       "      <td>2018</td>\n",
       "      <td>July 2018. Hackers stole personal details of 1...</td>\n",
       "      <td>healthcare</td>\n",
       "      <td>hacked</td>\n",
       "      <td>Health &amp; other personal records</td>\n",
       "      <td>Straits Times</td>\n",
       "      <td>7</td>\n",
       "      <td>None</td>\n",
       "    </tr>\n",
       "    <tr>\n",
       "      <th>4</th>\n",
       "      <td>Quest Diagnostics</td>\n",
       "      <td>11900000</td>\n",
       "      <td>2019</td>\n",
       "      <td>June 2019. One of the biggest blood testing pr...</td>\n",
       "      <td>healthcare</td>\n",
       "      <td>poor security</td>\n",
       "      <td>Health &amp; other personal records</td>\n",
       "      <td>NBC News</td>\n",
       "      <td>6</td>\n",
       "      <td>None</td>\n",
       "    </tr>\n",
       "    <tr>\n",
       "      <th>5</th>\n",
       "      <td>Australian National University</td>\n",
       "      <td>200000</td>\n",
       "      <td>2019</td>\n",
       "      <td>June 2019. A hacker accessed personal informat...</td>\n",
       "      <td>academic</td>\n",
       "      <td>hacked</td>\n",
       "      <td>Health &amp; other personal records</td>\n",
       "      <td>Guardian</td>\n",
       "      <td>6</td>\n",
       "      <td>None</td>\n",
       "    </tr>\n",
       "  </tbody>\n",
       "</table>\n",
       "</div>"
      ],
      "text/plain": [
       "                             entity  records_lost  year  \\\n",
       "1  US Customs and Border Protection        100000  2019   \n",
       "2                         Click2Gov        300000  2018   \n",
       "3                        SingHealth       1500000  2018   \n",
       "4                 Quest Diagnostics      11900000  2019   \n",
       "5    Australian National University        200000  2019   \n",
       "\n",
       "                                               story      sector  \\\n",
       "1  June 2019. Photos of travellers' faces and lic...  government   \n",
       "2  Dec 2018. Vulnerabilities in Click2Gov, a type...   financial   \n",
       "3  July 2018. Hackers stole personal details of 1...  healthcare   \n",
       "4  June 2019. One of the biggest blood testing pr...  healthcare   \n",
       "5  June 2019. A hacker accessed personal informat...    academic   \n",
       "\n",
       "          method                 data_sensitivity      source_name  month  \\\n",
       "1         hacked             SSN/Personal details  Washington Post      6   \n",
       "2         hacked          Credit card information          Fortune     12   \n",
       "3         hacked  Health & other personal records    Straits Times      7   \n",
       "4  poor security  Health & other personal records         NBC News      6   \n",
       "5         hacked  Health & other personal records         Guardian      6   \n",
       "\n",
       "  temp_sec  \n",
       "1     None  \n",
       "2     None  \n",
       "3     None  \n",
       "4     None  \n",
       "5     None  "
      ]
     },
     "execution_count": 29,
     "metadata": {},
     "output_type": "execute_result"
    }
   ],
   "source": [
    "df.head()"
   ]
  },
  {
   "cell_type": "markdown",
   "metadata": {},
   "source": [
    "## Validation"
   ]
  },
  {
   "cell_type": "code",
   "execution_count": 30,
   "metadata": {},
   "outputs": [
    {
     "data": {
      "text/plain": [
       "337"
      ]
     },
     "execution_count": 30,
     "metadata": {},
     "output_type": "execute_result"
    }
   ],
   "source": [
    "# Total number of entries in clean data\n",
    "df.shape[0]"
   ]
  },
  {
   "cell_type": "code",
   "execution_count": 31,
   "metadata": {},
   "outputs": [
    {
     "data": {
      "text/plain": [
       "316"
      ]
     },
     "execution_count": 31,
     "metadata": {},
     "output_type": "execute_result"
    }
   ],
   "source": [
    "# Total number of unique entities\n",
    "df.entity.nunique()"
   ]
  },
  {
   "cell_type": "code",
   "execution_count": 32,
   "metadata": {},
   "outputs": [
    {
     "data": {
      "text/plain": [
       "array(['government', 'financial', 'healthcare', 'academic', 'web',\n",
       "       'media', 'app', 'transport', 'retail', 'gaming', 'tech',\n",
       "       'telecoms', 'legal', 'energy', 'military'], dtype=object)"
      ]
     },
     "execution_count": 32,
     "metadata": {},
     "output_type": "execute_result"
    }
   ],
   "source": [
    "# Validating categories in sector\n",
    "df.sector.unique()"
   ]
  },
  {
   "cell_type": "code",
   "execution_count": 33,
   "metadata": {},
   "outputs": [
    {
     "data": {
      "text/plain": [
       "array(['hacked', 'poor security', 'oops!', 'lost device ', 'inside job'],\n",
       "      dtype=object)"
      ]
     },
     "execution_count": 33,
     "metadata": {},
     "output_type": "execute_result"
    }
   ],
   "source": [
    "# Validating categories in method \n",
    "df.method.unique()"
   ]
  },
  {
   "cell_type": "code",
   "execution_count": 34,
   "metadata": {},
   "outputs": [
    {
     "data": {
      "text/plain": [
       "array(['SSN/Personal details', 'Credit card information',\n",
       "       'Health & other personal records',\n",
       "       'Just email address/Online information', 'Full details', '7'],\n",
       "      dtype=object)"
      ]
     },
     "execution_count": 34,
     "metadata": {},
     "output_type": "execute_result"
    }
   ],
   "source": [
    "# Validating categories in Data Sensitivity\n",
    "df.data_sensitivity.unique()"
   ]
  },
  {
   "cell_type": "code",
   "execution_count": 35,
   "metadata": {},
   "outputs": [
    {
     "data": {
      "text/html": [
       "<div>\n",
       "<style scoped>\n",
       "    .dataframe tbody tr th:only-of-type {\n",
       "        vertical-align: middle;\n",
       "    }\n",
       "\n",
       "    .dataframe tbody tr th {\n",
       "        vertical-align: top;\n",
       "    }\n",
       "\n",
       "    .dataframe thead th {\n",
       "        text-align: right;\n",
       "    }\n",
       "</style>\n",
       "<table border=\"1\" class=\"dataframe\">\n",
       "  <thead>\n",
       "    <tr style=\"text-align: right;\">\n",
       "      <th></th>\n",
       "      <th>entity</th>\n",
       "      <th>records_lost</th>\n",
       "      <th>year</th>\n",
       "      <th>story</th>\n",
       "      <th>sector</th>\n",
       "      <th>method</th>\n",
       "      <th>data_sensitivity</th>\n",
       "      <th>source_name</th>\n",
       "      <th>month</th>\n",
       "      <th>temp_sec</th>\n",
       "    </tr>\n",
       "  </thead>\n",
       "  <tbody>\n",
       "    <tr>\n",
       "      <th>16</th>\n",
       "      <td>Animoto</td>\n",
       "      <td>617000000</td>\n",
       "      <td>2019</td>\n",
       "      <td>Feb 2019. Anomoto was part of the theft of 617...</td>\n",
       "      <td>app</td>\n",
       "      <td>hacked</td>\n",
       "      <td>7</td>\n",
       "      <td>The Register</td>\n",
       "      <td>2</td>\n",
       "      <td>None</td>\n",
       "    </tr>\n",
       "  </tbody>\n",
       "</table>\n",
       "</div>"
      ],
      "text/plain": [
       "     entity  records_lost  year  \\\n",
       "16  Animoto     617000000  2019   \n",
       "\n",
       "                                                story sector  method  \\\n",
       "16  Feb 2019. Anomoto was part of the theft of 617...    app  hacked   \n",
       "\n",
       "   data_sensitivity   source_name  month temp_sec  \n",
       "16                7  The Register      2     None  "
      ]
     },
     "execution_count": 35,
     "metadata": {},
     "output_type": "execute_result"
    }
   ],
   "source": [
    "# Replacing 7 with appropriate Data Sensitivity category.\n",
    "# Fetch record with 'data_sensitivity == 7'\n",
    "df.query('data_sensitivity == \"7\"')"
   ]
  },
  {
   "cell_type": "code",
   "execution_count": 36,
   "metadata": {},
   "outputs": [
    {
     "data": {
      "text/plain": [
       "'Feb 2019. EyeEm was part of the theft of 617 million online account details from 16 hacked websites, put up for sale on the dark web.'"
      ]
     },
     "execution_count": 36,
     "metadata": {},
     "output_type": "execute_result"
    }
   ],
   "source": [
    "# trying to interpret story to find data sensitivity\n",
    "df.story.iloc[15]"
   ]
  },
  {
   "cell_type": "markdown",
   "metadata": {},
   "source": [
    "Assumption: The story information shows that Anomot online account details were hacked, thus reassigning Data Sensitivity from 7 to 'Just email address/Online information'"
   ]
  },
  {
   "cell_type": "code",
   "execution_count": 37,
   "metadata": {},
   "outputs": [],
   "source": [
    "# Replacing value\n",
    "df['data_sensitivity'].replace('7','Just email address/Online information', regex=True, inplace = True)"
   ]
  },
  {
   "cell_type": "code",
   "execution_count": 38,
   "metadata": {},
   "outputs": [
    {
     "data": {
      "text/plain": [
       "entity                                                          EyeEm\n",
       "records_lost                                                 22000000\n",
       "year                                                             2019\n",
       "story               Feb 2019. EyeEm was part of the theft of 617 m...\n",
       "sector                                                            web\n",
       "method                                                         hacked\n",
       "data_sensitivity                Just email address/Online information\n",
       "source_name                                              The Register\n",
       "month                                                               2\n",
       "temp_sec                                                         None\n",
       "Name: 17, dtype: object"
      ]
     },
     "execution_count": 38,
     "metadata": {},
     "output_type": "execute_result"
    }
   ],
   "source": [
    "# verifying reassign operation\n",
    "df.iloc[15]"
   ]
  },
  {
   "cell_type": "markdown",
   "metadata": {},
   "source": [
    "### Outlier Analysis in records lost"
   ]
  },
  {
   "cell_type": "code",
   "execution_count": 39,
   "metadata": {},
   "outputs": [
    {
     "data": {
      "image/png": "[encoded data removed]",
      "text/plain": [
       "<Figure size 720x432 with 1 Axes>"
      ]
     },
     "metadata": {
      "needs_background": "light"
     },
     "output_type": "display_data"
    }
   ],
   "source": [
    "# Distribution of 'records lost' \n",
    "def plot_distribution(inp):\n",
    "    plt.figure(figsize=(10,6))\n",
    "    ax = sns.distplot(inp, color = 'Blue')\n",
    "    return plt.figure\n",
    "\n",
    "plot_distribution(df.records_lost.to_numpy())\n",
    "plt.title('Distribution of Records Lost')\n",
    "plt.xlabel('No. of Records - in Billion')\n",
    "plt.ylabel('Frequency');"
   ]
  },
  {
   "cell_type": "code",
   "execution_count": 40,
   "metadata": {},
   "outputs": [
    {
     "data": {
      "text/plain": [
       "''"
      ]
     },
     "execution_count": 40,
     "metadata": {},
     "output_type": "execute_result"
    },
    {
     "data": {
      "image/png": "[encoded data removed]",
      "text/plain": [
       "<Figure size 720x432 with 1 Axes>"
      ]
     },
     "metadata": {
      "needs_background": "light"
     },
     "output_type": "display_data"
    }
   ],
   "source": [
    "plt.figure(figsize=(10,6))\n",
    "sns.boxplot(df.records_lost)\n",
    "plt.xlabel('No. of Records - in Billion')\n",
    ";"
   ]
  },
  {
   "cell_type": "code",
   "execution_count": 41,
   "metadata": {},
   "outputs": [
    {
     "data": {
      "text/plain": [
       "(13, 10)"
      ]
     },
     "execution_count": 41,
     "metadata": {},
     "output_type": "execute_result"
    }
   ],
   "source": [
    "df.query('records_lost > 200000000').shape"
   ]
  },
  {
   "cell_type": "markdown",
   "metadata": {},
   "source": [
    "In this case, the data is right skewed. Most of the breaches have occured where records lost are at the most 0.2 Billion."
   ]
  },
  {
   "cell_type": "markdown",
   "metadata": {},
   "source": [
    "## Part C: Data Mining and Visualization"
   ]
  },
  {
   "cell_type": "code",
   "execution_count": 42,
   "metadata": {
    "scrolled": true
   },
   "outputs": [
    {
     "data": {
      "text/html": [
       "<div>\n",
       "<style scoped>\n",
       "    .dataframe tbody tr th:only-of-type {\n",
       "        vertical-align: middle;\n",
       "    }\n",
       "\n",
       "    .dataframe tbody tr th {\n",
       "        vertical-align: top;\n",
       "    }\n",
       "\n",
       "    .dataframe thead th {\n",
       "        text-align: right;\n",
       "    }\n",
       "</style>\n",
       "<table border=\"1\" class=\"dataframe\">\n",
       "  <thead>\n",
       "    <tr style=\"text-align: right;\">\n",
       "      <th></th>\n",
       "      <th>entity</th>\n",
       "      <th>records_lost</th>\n",
       "      <th>year</th>\n",
       "      <th>story</th>\n",
       "      <th>sector</th>\n",
       "      <th>method</th>\n",
       "      <th>data_sensitivity</th>\n",
       "      <th>source_name</th>\n",
       "      <th>month</th>\n",
       "      <th>temp_sec</th>\n",
       "    </tr>\n",
       "  </thead>\n",
       "  <tbody>\n",
       "    <tr>\n",
       "      <th>1</th>\n",
       "      <td>US Customs and Border Protection</td>\n",
       "      <td>100000</td>\n",
       "      <td>2019</td>\n",
       "      <td>June 2019. Photos of travellers' faces and lic...</td>\n",
       "      <td>government</td>\n",
       "      <td>hacked</td>\n",
       "      <td>SSN/Personal details</td>\n",
       "      <td>Washington Post</td>\n",
       "      <td>6</td>\n",
       "      <td>None</td>\n",
       "    </tr>\n",
       "    <tr>\n",
       "      <th>2</th>\n",
       "      <td>Click2Gov</td>\n",
       "      <td>300000</td>\n",
       "      <td>2018</td>\n",
       "      <td>Dec 2018. Vulnerabilities in Click2Gov, a type...</td>\n",
       "      <td>financial</td>\n",
       "      <td>hacked</td>\n",
       "      <td>Credit card information</td>\n",
       "      <td>Fortune</td>\n",
       "      <td>12</td>\n",
       "      <td>None</td>\n",
       "    </tr>\n",
       "    <tr>\n",
       "      <th>3</th>\n",
       "      <td>SingHealth</td>\n",
       "      <td>1500000</td>\n",
       "      <td>2018</td>\n",
       "      <td>July 2018. Hackers stole personal details of 1...</td>\n",
       "      <td>healthcare</td>\n",
       "      <td>hacked</td>\n",
       "      <td>Health &amp; other personal records</td>\n",
       "      <td>Straits Times</td>\n",
       "      <td>7</td>\n",
       "      <td>None</td>\n",
       "    </tr>\n",
       "    <tr>\n",
       "      <th>4</th>\n",
       "      <td>Quest Diagnostics</td>\n",
       "      <td>11900000</td>\n",
       "      <td>2019</td>\n",
       "      <td>June 2019. One of the biggest blood testing pr...</td>\n",
       "      <td>healthcare</td>\n",
       "      <td>poor security</td>\n",
       "      <td>Health &amp; other personal records</td>\n",
       "      <td>NBC News</td>\n",
       "      <td>6</td>\n",
       "      <td>None</td>\n",
       "    </tr>\n",
       "    <tr>\n",
       "      <th>5</th>\n",
       "      <td>Australian National University</td>\n",
       "      <td>200000</td>\n",
       "      <td>2019</td>\n",
       "      <td>June 2019. A hacker accessed personal informat...</td>\n",
       "      <td>academic</td>\n",
       "      <td>hacked</td>\n",
       "      <td>Health &amp; other personal records</td>\n",
       "      <td>Guardian</td>\n",
       "      <td>6</td>\n",
       "      <td>None</td>\n",
       "    </tr>\n",
       "  </tbody>\n",
       "</table>\n",
       "</div>"
      ],
      "text/plain": [
       "                             entity  records_lost  year  \\\n",
       "1  US Customs and Border Protection        100000  2019   \n",
       "2                         Click2Gov        300000  2018   \n",
       "3                        SingHealth       1500000  2018   \n",
       "4                 Quest Diagnostics      11900000  2019   \n",
       "5    Australian National University        200000  2019   \n",
       "\n",
       "                                               story      sector  \\\n",
       "1  June 2019. Photos of travellers' faces and lic...  government   \n",
       "2  Dec 2018. Vulnerabilities in Click2Gov, a type...   financial   \n",
       "3  July 2018. Hackers stole personal details of 1...  healthcare   \n",
       "4  June 2019. One of the biggest blood testing pr...  healthcare   \n",
       "5  June 2019. A hacker accessed personal informat...    academic   \n",
       "\n",
       "          method                 data_sensitivity      source_name  month  \\\n",
       "1         hacked             SSN/Personal details  Washington Post      6   \n",
       "2         hacked          Credit card information          Fortune     12   \n",
       "3         hacked  Health & other personal records    Straits Times      7   \n",
       "4  poor security  Health & other personal records         NBC News      6   \n",
       "5         hacked  Health & other personal records         Guardian      6   \n",
       "\n",
       "  temp_sec  \n",
       "1     None  \n",
       "2     None  \n",
       "3     None  \n",
       "4     None  \n",
       "5     None  "
      ]
     },
     "execution_count": 42,
     "metadata": {},
     "output_type": "execute_result"
    }
   ],
   "source": [
    "df.head()"
   ]
  },
  {
   "cell_type": "code",
   "execution_count": 53,
   "metadata": {
    "scrolled": false
   },
   "outputs": [
    {
     "data": {
      "image/png": "[encoded data removed]",
      "text/plain": [
       "<Figure size 936x468 with 1 Axes>"
      ]
     },
     "metadata": {},
     "output_type": "display_data"
    }
   ],
   "source": [
    "# Calculating sum of records_lost by period\n",
    "df_records = df.groupby(['year'])['records_lost'].sum().reset_index()\n",
    "\n",
    "plt.figure(figsize=(13,6.5))\n",
    "sns.set(style='darkgrid', font_scale=1.2, rc={\"lines.linewidth\":1.4});\n",
    "g = sns.lineplot(x='year', y='records_lost', data= df_records, marker='o', color = 'dodgerblue')\n",
    "g.set_title(\"Records Compromised\", fontsize = 16)\n",
    "g.set_xlabel(\"Year\", fontsize = 13)\n",
    "g.set_ylabel(\"Records Lost\", fontsize = 13)\n",
    "ylabels = ['{:,.2f}'.format(y) + 'M' for y in g.get_yticks()/1000000]\n",
    "g.set_yticklabels(ylabels)\n",
    "plt.xticks(rotation=45, fontsize = 11)\n",
    "plt.yticks(fontsize = 11)\n",
    "\n",
    "# Adding Data Labels for y axis --- to get the Revenue in Millions\n",
    "for x,y in zip(df_records['year'],df_records['records_lost']):\n",
    "\n",
    "    label = '{:,.2f}'.format(y/1000000) + 'M'\n",
    "\n",
    "    plt.annotate(label, # this is the text\n",
    "                 (x,y), # this is the point to label\n",
    "                 textcoords=\"offset points\", # how to position the text\n",
    "                 xytext=(0,10), # distance from text to points (x,y)\n",
    "                 ha='center',\n",
    "                fontsize = 10) # horizontal alignment can be left, right or center"
   ]
  },
  {
   "cell_type": "code",
   "execution_count": 55,
   "metadata": {},
   "outputs": [
    {
     "data": {
      "image/png": "[encoded data removed]",
      "text/plain": [
       "<Figure size 936x468 with 1 Axes>"
      ]
     },
     "metadata": {},
     "output_type": "display_data"
    }
   ],
   "source": [
    "# Creating a new dataframe for records lost by month\n",
    "df_month = df.groupby('month')['records_lost'].sum().reset_index().sort_values(by='month')\n",
    "\n",
    "# visualizing the output\n",
    "plt.figure(figsize=(13,6.5))\n",
    "sns.set(style='darkgrid', font_scale=1.2)\n",
    "x = x=df_month['month']\n",
    "y = y=df_month['records_lost']\n",
    "g = sns.barplot(x, y, color= 'dodgerblue')\n",
    "g.set_title(\"Records Compromised by Month\", fontsize = 16)\n",
    "g.set_xlabel(\"Month\", fontsize = 13)\n",
    "g.set_ylabel(\"Records Lost\", fontsize = 13)\n",
    "plt.xticks(rotation=45, fontsize=11)\n",
    "plt.yticks(fontsize=11);"
   ]
  },
  {
   "cell_type": "code",
   "execution_count": 76,
   "metadata": {},
   "outputs": [
    {
     "data": {
      "image/png": "[encoded data removed]",
      "text/plain": [
       "<Figure size 936x468 with 1 Axes>"
      ]
     },
     "metadata": {},
     "output_type": "display_data"
    }
   ],
   "source": [
    "# Calculating number of companies affected by period\n",
    "df_comp = df.groupby(['year'])['entity'].count().reset_index()\n",
    "\n",
    "plt.figure(figsize=(13,6.5))\n",
    "sns.set(style='darkgrid', font_scale=1.2, rc={\"lines.linewidth\":1.4});\n",
    "g1 = sns.lineplot(x='year', y='entity', data= df_comp, marker='o', color = 'dodgerblue')\n",
    "g1.set_title(\"Number of Companies Affected\", fontsize = 16)\n",
    "g1.set_xlabel(\"Year\", fontsize = 13)\n",
    "g1.set_ylabel(\"Number of Companies\", fontsize = 13)\n",
    "plt.xticks(rotation=45, fontsize = 11)\n",
    "plt.yticks(fontsize = 11);"
   ]
  },
  {
   "cell_type": "code",
   "execution_count": 75,
   "metadata": {},
   "outputs": [
    {
     "data": {
      "image/png": "[encoded data removed]",
      "text/plain": [
       "<Figure size 936x468 with 1 Axes>"
      ]
     },
     "metadata": {},
     "output_type": "display_data"
    }
   ],
   "source": [
    "# Creating a new dataframe for records lost by sector\n",
    "df_sec = df.groupby('sector')['records_lost'].sum().reset_index().sort_values(by='records_lost', ascending=False)\n",
    "\n",
    "# visualizing the output\n",
    "plt.figure(figsize=(13,6.5))\n",
    "sns.set(style='darkgrid', font_scale=1.2)\n",
    "x = x=df_sec['sector']\n",
    "y = y=df_sec['records_lost']\n",
    "g = sns.barplot(x, y, color= 'dodgerblue')\n",
    "g.set_title(\"Records Compromised by Sector\", fontsize = 16)\n",
    "g.set_xlabel(\"Sectors\", fontsize = 13)\n",
    "g.set_ylabel(\"Records Lost\", fontsize = 13)\n",
    "plt.xticks(rotation=45, fontsize=11)\n",
    "plt.yticks(fontsize=11);"
   ]
  },
  {
   "cell_type": "code",
   "execution_count": 78,
   "metadata": {},
   "outputs": [
    {
     "data": {
      "image/png": "[encoded data removed]",
      "text/plain": [
       "<Figure size 936x468 with 1 Axes>"
      ]
     },
     "metadata": {},
     "output_type": "display_data"
    }
   ],
   "source": [
    "# What type of methods lead to more data loss\n",
    "\n",
    "df_method = df.groupby('method')['records_lost'].sum().reset_index().sort_values(by='records_lost', ascending = False)\n",
    "\n",
    "# visualizing the output\n",
    "plt.figure(figsize=(13,6.5))\n",
    "sns.set(style='darkgrid', font_scale=1.2)\n",
    "x = x=df_method['method']\n",
    "y = y=df_method['records_lost']\n",
    "g = sns.barplot(x, y, color= 'dodgerblue')\n",
    "g.set_title(\"Records Compromised by Method\", fontsize = 16)\n",
    "g.set_xlabel(\"Methods\", fontsize = 13)\n",
    "g.set_ylabel(\"Records Lost\", fontsize = 13)\n",
    "plt.xticks(rotation=45, fontsize=11)\n",
    "plt.yticks(fontsize=11);"
   ]
  },
  {
   "cell_type": "code",
   "execution_count": 77,
   "metadata": {},
   "outputs": [
    {
     "data": {
      "image/png": "[encoded data removed]",
      "text/plain": [
       "<Figure size 936x468 with 1 Axes>"
      ]
     },
     "metadata": {},
     "output_type": "display_data"
    }
   ],
   "source": [
    "# What sort of data do hackers want\n",
    "df_sens = df.groupby('data_sensitivity')['records_lost'].sum().reset_index().sort_values(by='records_lost', ascending = False)\n",
    "\n",
    "# visualizing the output\n",
    "plt.figure(figsize=(13,6.5))\n",
    "sns.set(style='darkgrid', font_scale=1.2)\n",
    "x = x=df_sens['data_sensitivity']\n",
    "y = y=df_sens['records_lost']\n",
    "g = sns.barplot(x, y, color= 'dodgerblue')\n",
    "g.set_title(\"Records Compromised by Data Sensitivity\", fontsize = 16)\n",
    "g.set_xlabel(\"Data Sensitivity\", fontsize = 13)\n",
    "g.set_ylabel(\"Records Lost\", fontsize = 13)\n",
    "plt.xticks(rotation=45, fontsize=11)\n",
    "plt.yticks(fontsize=11);"
   ]
  },
  {
   "cell_type": "code",
   "execution_count": 86,
   "metadata": {},
   "outputs": [
    {
     "data": {
      "image/png": "[encoded data removed]",
      "text/plain": [
       "<Figure size 936x468 with 1 Axes>"
      ]
     },
     "metadata": {},
     "output_type": "display_data"
    }
   ],
   "source": [
    "# Incidents reported by different sources\n",
    "df_source = df.groupby('source_name')['entity'].count().reset_index().sort_values(by='entity', ascending = False).head(10)\n",
    "\n",
    "# visualizing the output\n",
    "plt.figure(figsize=(13,6.5))\n",
    "sns.set(style='darkgrid', font_scale=1.2)\n",
    "x = x=df_source['source_name']\n",
    "y = y=df_source['entity']\n",
    "g = sns.barplot(x, y, color= 'dodgerblue')\n",
    "g.set_title(\"Number of Incidents Reported by Top 10 Sources\", fontsize = 16)\n",
    "g.set_xlabel(\"Sources\", fontsize = 13)\n",
    "g.set_ylabel(\"Number of Incidents Reported\", fontsize = 13)\n",
    "plt.xticks(rotation=45, fontsize=11)\n",
    "plt.yticks(fontsize=11);"
   ]
  },
  {
   "cell_type": "markdown",
   "metadata": {},
   "source": [
    "## Insights\n",
    "* From the yearly trend, we can see that the number of records lost have increased over time from 2004 – 2019 (~15Bn records lost)\n",
    "* “Hacked” method has led to maximum data loss (52%) followed by “Poor Security” (28% ) and “Oops”(16%)\n",
    "* Entities from “web” sector have been affected most where most of the records lost were most sensitive like “SSN/ Personal Details” \n",
    "* Entity “Aadhaar” has seen tremendous data loss of more than 2Bn records with maximum in 2018, followed by “Yahoo” (1.5Bn) and “River City Media” (1.4Bn)"
   ]
  }
 ],
 "metadata": {
  "kernelspec": {
   "display_name": "Python 3",
   "language": "python",
   "name": "python3"
  },
  "language_info": {
   "codemirror_mode": {
    "name": "ipython",
    "version": 3
   },
   "file_extension": ".py",
   "mimetype": "text/x-python",
   "name": "python",
   "nbconvert_exporter": "python",
   "pygments_lexer": "ipython3",
   "version": "3.7.6"
  }
 },
 "nbformat": 4,
 "nbformat_minor": 4
}
